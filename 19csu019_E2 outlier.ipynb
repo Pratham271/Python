{
 "cells": [
  {
   "cell_type": "code",
   "execution_count": 1,
   "metadata": {},
   "outputs": [
    {
     "name": "stdout",
     "output_type": "stream",
     "text": [
      "     Price  Rooms  Square_Feet\n",
      "0   632541      2         1600\n",
      "1   425618      5         2850\n",
      "2   356471      3         1780\n",
      "3  7412512    100        90000\n"
     ]
    }
   ],
   "source": [
    "    import numpy as np\n",
    "    import pandas as pd\n",
    "\n",
    "    # Creating DataFrame\n",
    "    farm = pd.DataFrame()\n",
    "    farm['Price'] = [632541, 425618, 356471, 7412512]\n",
    "    farm['Rooms'] = [2, 5, 3, 100]\n",
    "    farm['Square_Feet'] = [1600, 2850, 1780, 90000]\n",
    "   # farm['category']=[1,2,1,2]\n",
    "    print(farm)\n",
    "\n",
    "   "
   ]
  },
  {
   "cell_type": "code",
   "execution_count": 22,
   "metadata": {},
   "outputs": [
    {
     "data": {
      "text/html": [
       "<div>\n",
       "<style scoped>\n",
       "    .dataframe tbody tr th:only-of-type {\n",
       "        vertical-align: middle;\n",
       "    }\n",
       "\n",
       "    .dataframe tbody tr th {\n",
       "        vertical-align: top;\n",
       "    }\n",
       "\n",
       "    .dataframe thead th {\n",
       "        text-align: right;\n",
       "    }\n",
       "</style>\n",
       "<table border=\"1\" class=\"dataframe\">\n",
       "  <thead>\n",
       "    <tr style=\"text-align: right;\">\n",
       "      <th></th>\n",
       "      <th>Price</th>\n",
       "      <th>Rooms</th>\n",
       "      <th>Square_Feet</th>\n",
       "      <th>category</th>\n",
       "    </tr>\n",
       "  </thead>\n",
       "  <tbody>\n",
       "    <tr>\n",
       "      <th>count</th>\n",
       "      <td>4.000000e+00</td>\n",
       "      <td>4.000000</td>\n",
       "      <td>4.00000</td>\n",
       "      <td>4.00000</td>\n",
       "    </tr>\n",
       "    <tr>\n",
       "      <th>mean</th>\n",
       "      <td>2.206786e+06</td>\n",
       "      <td>27.500000</td>\n",
       "      <td>24057.50000</td>\n",
       "      <td>1.50000</td>\n",
       "    </tr>\n",
       "    <tr>\n",
       "      <th>std</th>\n",
       "      <td>3.472466e+06</td>\n",
       "      <td>48.349423</td>\n",
       "      <td>43965.12889</td>\n",
       "      <td>0.57735</td>\n",
       "    </tr>\n",
       "    <tr>\n",
       "      <th>min</th>\n",
       "      <td>3.564710e+05</td>\n",
       "      <td>2.000000</td>\n",
       "      <td>1600.00000</td>\n",
       "      <td>1.00000</td>\n",
       "    </tr>\n",
       "    <tr>\n",
       "      <th>25%</th>\n",
       "      <td>4.083312e+05</td>\n",
       "      <td>2.750000</td>\n",
       "      <td>1735.00000</td>\n",
       "      <td>1.00000</td>\n",
       "    </tr>\n",
       "    <tr>\n",
       "      <th>50%</th>\n",
       "      <td>5.290795e+05</td>\n",
       "      <td>4.000000</td>\n",
       "      <td>2315.00000</td>\n",
       "      <td>1.50000</td>\n",
       "    </tr>\n",
       "    <tr>\n",
       "      <th>75%</th>\n",
       "      <td>2.327534e+06</td>\n",
       "      <td>28.750000</td>\n",
       "      <td>24637.50000</td>\n",
       "      <td>2.00000</td>\n",
       "    </tr>\n",
       "    <tr>\n",
       "      <th>max</th>\n",
       "      <td>7.412512e+06</td>\n",
       "      <td>100.000000</td>\n",
       "      <td>90000.00000</td>\n",
       "      <td>2.00000</td>\n",
       "    </tr>\n",
       "  </tbody>\n",
       "</table>\n",
       "</div>"
      ],
      "text/plain": [
       "              Price       Rooms  Square_Feet  category\n",
       "count  4.000000e+00    4.000000      4.00000   4.00000\n",
       "mean   2.206786e+06   27.500000  24057.50000   1.50000\n",
       "std    3.472466e+06   48.349423  43965.12889   0.57735\n",
       "min    3.564710e+05    2.000000   1600.00000   1.00000\n",
       "25%    4.083312e+05    2.750000   1735.00000   1.00000\n",
       "50%    5.290795e+05    4.000000   2315.00000   1.50000\n",
       "75%    2.327534e+06   28.750000  24637.50000   2.00000\n",
       "max    7.412512e+06  100.000000  90000.00000   2.00000"
      ]
     },
     "execution_count": 22,
     "metadata": {},
     "output_type": "execute_result"
    }
   ],
   "source": [
    "farm.describe()"
   ]
  },
  {
   "cell_type": "code",
   "execution_count": 2,
   "metadata": {},
   "outputs": [
    {
     "name": "stdout",
     "output_type": "stream",
     "text": [
      "\n",
      "    Price  Rooms  Square_Feet\n",
      "0  632541      2         1600\n",
      "1  425618      5         2850\n",
      "2  356471      3         1780\n"
     ]
    }
   ],
   "source": [
    " # Outlier Handling Option 1: Drop\n",
    "    # Droping observations greater than some value\n",
    " h = farm[farm['Rooms'] < 20]\n",
    " print(); print(h)\n",
    "\n",
    "    "
   ]
  },
  {
   "cell_type": "code",
   "execution_count": 4,
   "metadata": {},
   "outputs": [
    {
     "name": "stdout",
     "output_type": "stream",
     "text": [
      "\n",
      "     Price  Rooms  Square_Feet  Outlier\n",
      "0   632541      2         1600        0\n",
      "1   425618      5         2850        0\n",
      "2   356471      3         1780        0\n",
      "3  7412512    100        90000        1\n"
     ]
    }
   ],
   "source": [
    "    # Outlier Handling Option 2: Mark\n",
    "    # Creating feature based on boolean condition\n",
    "    farm['Outlier'] = np.where(farm['Rooms'] < 20, 0, 1)\n",
    "\n",
    "    # Show data\n",
    "    print(); print(farm)\n",
    "\n",
    "   "
   ]
  },
  {
   "cell_type": "code",
   "execution_count": 5,
   "metadata": {},
   "outputs": [],
   "source": [
    "    # Outlier Handling Option 3: Rescale\n",
    "    # Log feature\n",
    "    farm['Log_Of_Square_Feet'] = [np.log(x) for x in farm['Square_Feet']]\n",
    "\n",
    "    # Show data"
   ]
  },
  {
   "cell_type": "code",
   "execution_count": 6,
   "metadata": {},
   "outputs": [
    {
     "name": "stdout",
     "output_type": "stream",
     "text": [
      "\n",
      "     Price  Rooms  Square_Feet  Outlier  Log_Of_Square_Feet\n",
      "0   632541      2         1600        0            7.377759\n",
      "1   425618      5         2850        0            7.955074\n",
      "2   356471      3         1780        0            7.484369\n",
      "3  7412512    100        90000        1           11.407565\n"
     ]
    }
   ],
   "source": [
    "print();print(farm)"
   ]
  },
  {
   "cell_type": "code",
   "execution_count": 7,
   "metadata": {},
   "outputs": [
    {
     "name": "stdout",
     "output_type": "stream",
     "text": [
      "\n",
      "     Price  Rooms  Square_Feet\n",
      "0   632541      2         1600\n",
      "1   425618      5         2850\n",
      "2   356471      3         1780\n",
      "3  7412512    100        90000\n"
     ]
    }
   ],
   "source": [
    "    df = pd.DataFrame()\n",
    "    df['Price'] = [632541, 425618, 356471, 7412512]\n",
    "    df['Rooms'] = [2, 5, 3, 100]\n",
    "    df['Square_Feet'] = [1600, 2850, 1780, 90000]\n",
    "    print(); print(df)"
   ]
  },
  {
   "cell_type": "code",
   "execution_count": 11,
   "metadata": {},
   "outputs": [
    {
     "data": {
      "text/html": [
       "<div>\n",
       "<style scoped>\n",
       "    .dataframe tbody tr th:only-of-type {\n",
       "        vertical-align: middle;\n",
       "    }\n",
       "\n",
       "    .dataframe tbody tr th {\n",
       "        vertical-align: top;\n",
       "    }\n",
       "\n",
       "    .dataframe thead th {\n",
       "        text-align: right;\n",
       "    }\n",
       "</style>\n",
       "<table border=\"1\" class=\"dataframe\">\n",
       "  <thead>\n",
       "    <tr style=\"text-align: right;\">\n",
       "      <th></th>\n",
       "      <th>Price</th>\n",
       "      <th>Rooms</th>\n",
       "      <th>Square_Feet</th>\n",
       "    </tr>\n",
       "  </thead>\n",
       "  <tbody>\n",
       "    <tr>\n",
       "      <th>count</th>\n",
       "      <td>4.000000e+00</td>\n",
       "      <td>4.000000</td>\n",
       "      <td>4.00000</td>\n",
       "    </tr>\n",
       "    <tr>\n",
       "      <th>mean</th>\n",
       "      <td>2.206786e+06</td>\n",
       "      <td>27.500000</td>\n",
       "      <td>24057.50000</td>\n",
       "    </tr>\n",
       "    <tr>\n",
       "      <th>std</th>\n",
       "      <td>3.472466e+06</td>\n",
       "      <td>48.349423</td>\n",
       "      <td>43965.12889</td>\n",
       "    </tr>\n",
       "    <tr>\n",
       "      <th>min</th>\n",
       "      <td>3.564710e+05</td>\n",
       "      <td>2.000000</td>\n",
       "      <td>1600.00000</td>\n",
       "    </tr>\n",
       "    <tr>\n",
       "      <th>25%</th>\n",
       "      <td>4.083312e+05</td>\n",
       "      <td>2.750000</td>\n",
       "      <td>1735.00000</td>\n",
       "    </tr>\n",
       "    <tr>\n",
       "      <th>50%</th>\n",
       "      <td>5.290795e+05</td>\n",
       "      <td>4.000000</td>\n",
       "      <td>2315.00000</td>\n",
       "    </tr>\n",
       "    <tr>\n",
       "      <th>75%</th>\n",
       "      <td>2.327534e+06</td>\n",
       "      <td>28.750000</td>\n",
       "      <td>24637.50000</td>\n",
       "    </tr>\n",
       "    <tr>\n",
       "      <th>max</th>\n",
       "      <td>7.412512e+06</td>\n",
       "      <td>100.000000</td>\n",
       "      <td>90000.00000</td>\n",
       "    </tr>\n",
       "  </tbody>\n",
       "</table>\n",
       "</div>"
      ],
      "text/plain": [
       "              Price       Rooms  Square_Feet\n",
       "count  4.000000e+00    4.000000      4.00000\n",
       "mean   2.206786e+06   27.500000  24057.50000\n",
       "std    3.472466e+06   48.349423  43965.12889\n",
       "min    3.564710e+05    2.000000   1600.00000\n",
       "25%    4.083312e+05    2.750000   1735.00000\n",
       "50%    5.290795e+05    4.000000   2315.00000\n",
       "75%    2.327534e+06   28.750000  24637.50000\n",
       "max    7.412512e+06  100.000000  90000.00000"
      ]
     },
     "execution_count": 11,
     "metadata": {},
     "output_type": "execute_result"
    }
   ],
   "source": [
    "df.describe()"
   ]
  },
  {
   "cell_type": "code",
   "execution_count": 6,
   "metadata": {},
   "outputs": [],
   "source": [
    "import seaborn as sns"
   ]
  },
  {
   "cell_type": "code",
   "execution_count": 9,
   "metadata": {},
   "outputs": [
    {
     "data": {
      "image/png": "[encoded data removed]",
      "text/plain": [
       "<Figure size 432x288 with 1 Axes>"
      ]
     },
     "metadata": {},
     "output_type": "display_data"
    }
   ],
   "source": [
    "sns.set(style=\"whitegrid\")\n",
    "ax=sns.boxplot(x=df['Square_Feet'])"
   ]
  },
  {
   "cell_type": "code",
   "execution_count": 9,
   "metadata": {},
   "outputs": [
    {
     "name": "stdout",
     "output_type": "stream",
     "text": [
      "Price          1919202.5\n",
      "Rooms               26.0\n",
      "Square_Feet      22902.5\n",
      "dtype: float64\n",
      "\n",
      "Price          408331.25\n",
      "Rooms               2.75\n",
      "Square_Feet      1735.00\n",
      "Name: 0.25, dtype: float64\n",
      "\n",
      "Price          2327533.75\n",
      "Rooms               28.75\n",
      "Square_Feet      24637.50\n",
      "Name: 0.75, dtype: float64\n"
     ]
    }
   ],
   "source": [
    "Q1=df.quantile(0.25)\n",
    "Q3=df.quantile(0.75)\n",
    "IQR=Q3-Q1\n",
    "print(IQR) \n",
    "print();print(Q1);print();print(Q3)"
   ]
  },
  {
   "cell_type": "code",
   "execution_count": 10,
   "metadata": {},
   "outputs": [
    {
     "name": "stdout",
     "output_type": "stream",
     "text": [
      "Price          5206337.50\n",
      "Rooms               67.75\n",
      "Square_Feet      58991.25\n",
      "dtype: float64\n"
     ]
    }
   ],
   "source": [
    "print(Q3+1.5*IQR)  # Q1-1.5*IQR"
   ]
  },
  {
   "cell_type": "code",
   "execution_count": 12,
   "metadata": {},
   "outputs": [],
   "source": [
    "def total_outliers(X,Y):\n",
    "    c=0\n",
    "    for i in X:\n",
    "        if i>Y:\n",
    "            c=c+1\n",
    "            \n",
    "    print(c)      "
   ]
  },
  {
   "cell_type": "code",
   "execution_count": 13,
   "metadata": {},
   "outputs": [
    {
     "name": "stdout",
     "output_type": "stream",
     "text": [
      "1\n"
     ]
    }
   ],
   "source": [
    "total_outliers(df.Rooms,67.75)"
   ]
  },
  {
   "cell_type": "code",
   "execution_count": 16,
   "metadata": {},
   "outputs": [
    {
     "data": {
      "text/plain": [
       "3"
      ]
     },
     "execution_count": 16,
     "metadata": {},
     "output_type": "execute_result"
    }
   ],
   "source": [
    "df[df.Rooms<67.75].shape[0]"
   ]
  }
 ],
 "metadata": {
  "kernelspec": {
   "display_name": "Python 3",
   "language": "python",
   "name": "python3"
  },
  "language_info": {
   "codemirror_mode": {
    "name": "ipython",
    "version": 3
   },
   "file_extension": ".py",
   "mimetype": "text/x-python",
   "name": "python",
   "nbconvert_exporter": "python",
   "pygments_lexer": "ipython3",
   "version": "3.8.3"
  }
 },
 "nbformat": 4,
 "nbformat_minor": 4
}
